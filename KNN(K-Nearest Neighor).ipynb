{
 "cells": [
  {
   "cell_type": "code",
   "execution_count": 2,
   "metadata": {},
   "outputs": [
    {
     "name": "stdout",
     "output_type": "stream",
     "text": [
      "[[0 1]\n",
      " [1 0]\n",
      " [2 1]\n",
      " [3 4]\n",
      " [4 3]\n",
      " [5 4]]\n",
      "[[0.         1.        ]\n",
      " [0.         1.        ]\n",
      " [0.         1.41421356]\n",
      " [0.         1.        ]\n",
      " [0.         1.        ]\n",
      " [0.         1.41421356]]\n"
     ]
    }
   ],
   "source": [
    "from sklearn.neighbors import NearestNeighbors\n",
    "import numpy as np\n",
    "#生成数组\n",
    "X = np.array([[-1, -1], [-2, -1], [-3, -2], [1, 1], [2, 1], [3, 2]])\n",
    "nbrs = NearestNeighbors(n_neighbors=2, algorithm='ball_tree').fit(X)\n",
    "distances, indices = nbrs.kneighbors(X)\n",
    "print(indices)\n",
    "print(distances)"
   ]
  },
  {
   "cell_type": "code",
   "execution_count": 10,
   "metadata": {},
   "outputs": [
    {
     "name": "stdout",
     "output_type": "stream",
     "text": [
      "<class 'sklearn.utils.Bunch'>\n",
      "iris_y_predict = \n",
      "[2 1 0 0 2 2 2 1 2 2]\n",
      "iris_y_test = \n",
      "[2 1 0 0 2 2 2 1 2 2]\n",
      "Accuracy: 1.0\n"
     ]
    }
   ],
   "source": [
    "from sklearn import datasets\n",
    "#导入内置数据集模块\n",
    "from sklearn.neighbors import KNeighborsClassifier\n",
    "#导入sklearn.neighbors模块中KNN类\n",
    "import numpy as np\n",
    "iris=datasets.load_iris()\n",
    "print(type(iris))\n",
    "#导入鸢尾花的数据集，iris是一个数据集，内部有样本数据\n",
    "iris_x=iris.data\n",
    "iris_y=iris.target\n",
    "\n",
    "indices = np.random.permutation(len(iris_x))\n",
    "#permutation接收一个数作为参数(150),产生一个0-149一维数组，只不过是随机打乱的\n",
    "iris_x_train = iris_x[indices[:-10]]\n",
    " #随机选取140个样本作为训练数据集\n",
    "iris_y_train = iris_y[indices[:-10]]\n",
    "# 并且选取这140个样本的标签作为训练数据集的标签\n",
    "iris_x_test = iris_x[indices[-10:]]\n",
    "# 剩下的10个样本作为测试数据集\n",
    "iris_y_test = iris_y[indices[-10:]]\n",
    "# 并且把剩下10个样本对应标签作为测试数据及的标签\n",
    "\n",
    "knn = KNeighborsClassifier()\n",
    "# 定义一个knn分类器对象\n",
    "knn.fit(iris_x_train, iris_y_train)\n",
    "# 调用该对象的训练方法，主要接收两个参数：训练数据集及其样本标签\n",
    "iris_y_predict = knn.predict(iris_x_test)\n",
    "# 调用该对象的测试方法，主要接收一个参数：测试数据集\n",
    "score = knn.score(iris_x_test, iris_y_test, sample_weight=None)\n",
    "# 调用该对象的打分方法，计算出准确率\n",
    "\n",
    "\n",
    "\n",
    "print('iris_y_predict = ')\n",
    "print(iris_y_predict)\n",
    "# 输出测试的结果\n",
    "print('iris_y_test = ')\n",
    "print(iris_y_test)\n",
    "# 输出原始测试数据集的正确标签，以方便对比\n",
    "print('Accuracy:', score)\n",
    "# 输出准确率计算结果</span>"
   ]
  },
  {
   "cell_type": "code",
   "execution_count": null,
   "metadata": {},
   "outputs": [],
   "source": [
    "\n"
   ]
  },
  {
   "cell_type": "code",
   "execution_count": null,
   "metadata": {},
   "outputs": [],
   "source": []
  }
 ],
 "metadata": {
  "kernelspec": {
   "display_name": "Python 3",
   "language": "python",
   "name": "python3"
  },
  "language_info": {
   "codemirror_mode": {
    "name": "ipython",
    "version": 3
   },
   "file_extension": ".py",
   "mimetype": "text/x-python",
   "name": "python",
   "nbconvert_exporter": "python",
   "pygments_lexer": "ipython3",
   "version": "3.6.4"
  }
 },
 "nbformat": 4,
 "nbformat_minor": 2
}
