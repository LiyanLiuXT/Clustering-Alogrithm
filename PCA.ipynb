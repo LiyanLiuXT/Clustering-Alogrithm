{
 "cells": [
  {
   "cell_type": "code",
   "execution_count": 54,
   "metadata": {},
   "outputs": [
    {
     "name": "stdout",
     "output_type": "stream",
     "text": [
      "(6, 2)\n",
      "[0.99244289 0.00755711]\n",
      "[6.30061232 0.54980396]\n"
     ]
    }
   ],
   "source": [
    "import numpy as np\n",
    "import pandas as pd\n",
    "from sklearn.decomposition import PCA\n",
    "X = np.array([[-1, -1], [-2, -1], [-3, -2], [1, 1], [2, 1], [3, 2]])\n",
    "pca = PCA(n_components = 2) # n_components 成分数目\n",
    "pca.fit(X)\n",
    "print(X.shape)\n",
    "print(pca.explained_variance_ratio_)  \n",
    "print(pca.singular_values_)  "
   ]
  },
  {
   "cell_type": "code",
   "execution_count": 55,
   "metadata": {},
   "outputs": [
    {
     "name": "stdout",
     "output_type": "stream",
     "text": [
      "(2, 5)\n",
      "(1, 5)\n"
     ]
    }
   ],
   "source": [
    "def pcaPercentage(X, cRate): # 对选取主成份的个数还可以另一种选法：根据解释原始信息的程度选取,给定累计解释率\n",
    "    #矩阵row为维度，col是样本数\n",
    "    #对样本矩阵进行中心化样本矩阵\n",
    "    meanValue = np.mean(X, axis = 0) # 计算每列的平均值\n",
    "    X = X - meanValue # 每个维度元素减去对应维度均值\n",
    "    C = np.cov(X) # 计算协方差矩阵\n",
    "    eigValue, eigVector = np.linalg.eig(np.mat(C)) # 计算特征值，特征向量\n",
    "    sumEigValue = np.sum(eigValue) # 所有特征值之和\n",
    "    sortedeigValue = np.sort(eigValue)[::-1] #对特征值从大到小排序\n",
    "    \n",
    "    #取前j个列向量构成变换矩阵\n",
    "    for i in range(sortedeigValue.size):\n",
    "        j = i + 1\n",
    "        rate = sum(eigValue[0:j])/sumEigValue\n",
    "        if rate > cRate:\n",
    "            break\n",
    "            \n",
    "    indexVec = np.argsort(-eigValue) # 对eigenValue从大到小排序，返回索引\n",
    "    nLargestIndex = indexVec[:nComponents] # 取出最大的特征值的索引\n",
    "    T = eigVector[:,nLargestIndex] # 取出最大的特征值对应的特征向量\n",
    "    newX = np.dot(X,T) # 将X矩阵降维得到newX\n",
    "    return newX, T, meanValue #返回降维后矩阵newX，变换矩阵T，每列的均值构成的数组\n",
    "\n",
    "def pcan(X, nComponents): # 给定要选取的主成份个数 n =.\n",
    "    #矩阵row为维度，col是样本数\n",
    "    #对样本矩阵进行中心化样本矩阵\n",
    "    meanValue = np.mean(X, axis = 0) # 计算每列的平均值\n",
    "    X = X - meanValue # 每个维度元素减去对应维度均值\n",
    "    C = np.cov(X) # 计算协方差矩阵\n",
    "    eigValue, eigVector = np.linalg.eig(np.mat(C)) # 计算特征值，特征向量\n",
    "    indexVec = np.argsort(-eigValue) # 对eigenValue从大到小排序，返回索引\n",
    "    nLargestIndex = indexVec[:nComponents] # 取出最大的特征值的索引\n",
    "    MaxeigVector = eigVector[:,nLargestIndex] # 取出最大的特征值对应的特征向量\n",
    "    newX = np.dot(MaxeigVector.T, X) # 将X矩阵降维得到newX\n",
    "    return newX, T, meanValue #返回降维后矩阵newX，变换矩阵T，每列的均值构成的数组\n",
    "\n",
    "if __name__ == \"__main__\": \n",
    "#     导入数据，切记不含因变量。我们在此构造df1数据，此数据变量间没有一定的相关性，只做计算演示。\n",
    "    X = np.array([[-1,-1,0,2,0],[-2,0,0,1,1]]) # row为维度，col为样本数\n",
    "    newX, T, meanValue = pcan(X,1)\n",
    "    print(X.shape)\n",
    "    print(newX.shape)\n",
    "    "
   ]
  },
  {
   "cell_type": "code",
   "execution_count": null,
   "metadata": {},
   "outputs": [],
   "source": []
  }
 ],
 "metadata": {
  "kernelspec": {
   "display_name": "Python 3",
   "language": "python",
   "name": "python3"
  },
  "language_info": {
   "codemirror_mode": {
    "name": "ipython",
    "version": 3
   },
   "file_extension": ".py",
   "mimetype": "text/x-python",
   "name": "python",
   "nbconvert_exporter": "python",
   "pygments_lexer": "ipython3",
   "version": "3.6.4"
  }
 },
 "nbformat": 4,
 "nbformat_minor": 2
}
